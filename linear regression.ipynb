{
 "cells": [
  {
   "cell_type": "code",
   "execution_count": 1,
   "metadata": {},
   "outputs": [
    {
     "name": "stdout",
     "output_type": "stream",
     "text": [
      "train (rows,cols): (1460, 81)\n",
      "test (rows,cols) (1459, 80)\n"
     ]
    }
   ],
   "source": [
    "import pandas as pd\n",
    "pd.set_option('display.float_format', lambda x: '%.3f' % x)\n",
    "\n",
    "train = pd.read_csv(\"train.csv\")\n",
    "test = pd.read_csv(\"test.csv\")\n",
    "print(\"train (rows,cols):\",train.shape)\n",
    "print(\"test (rows,cols)\",test.shape)"
   ]
  },
  {
   "cell_type": "code",
   "execution_count": 2,
   "metadata": {},
   "outputs": [],
   "source": [
    "# remove the Id column\n",
    "train.drop(\"Id\", axis = 1, inplace = True)"
   ]
  },
  {
   "cell_type": "code",
   "execution_count": 3,
   "metadata": {},
   "outputs": [],
   "source": [
    "# Handle missing values for features where median/mean or most common value doesn't make sense\n",
    "\n",
    "# Alley : data description says NA means \"no alley access\"\n",
    "train.loc[:, \"Alley\"] = train.loc[:, \"Alley\"].fillna(\"None\")\n",
    "# BedroomAbvGr : NA most likely means 0\n",
    "train.loc[:, \"BedroomAbvGr\"] = train.loc[:, \"BedroomAbvGr\"].fillna(0)\n",
    "# BsmtQual etc : data description says NA for basement features is \"no basement\"\n",
    "train.loc[:, \"BsmtQual\"] = train.loc[:, \"BsmtQual\"].fillna(\"No\")\n",
    "train.loc[:, \"BsmtCond\"] = train.loc[:, \"BsmtCond\"].fillna(\"No\")\n",
    "train.loc[:, \"BsmtExposure\"] = train.loc[:, \"BsmtExposure\"].fillna(\"No\")\n",
    "train.loc[:, \"BsmtFinType1\"] = train.loc[:, \"BsmtFinType1\"].fillna(\"No\")\n",
    "train.loc[:, \"BsmtFinType2\"] = train.loc[:, \"BsmtFinType2\"].fillna(\"No\")\n",
    "train.loc[:, \"BsmtFullBath\"] = train.loc[:, \"BsmtFullBath\"].fillna(0)\n",
    "train.loc[:, \"BsmtHalfBath\"] = train.loc[:, \"BsmtHalfBath\"].fillna(0)\n",
    "train.loc[:, \"BsmtUnfSF\"] = train.loc[:, \"BsmtUnfSF\"].fillna(0)\n",
    "# CentralAir : NA most likely means No\n",
    "train.loc[:, \"CentralAir\"] = train.loc[:, \"CentralAir\"].fillna(\"N\")\n",
    "# Condition : NA most likely means Normal\n",
    "train.loc[:, \"Condition1\"] = train.loc[:, \"Condition1\"].fillna(\"Norm\")\n",
    "train.loc[:, \"Condition2\"] = train.loc[:, \"Condition2\"].fillna(\"Norm\")\n",
    "# EnclosedPorch : NA most likely means no enclosed porch\n",
    "train.loc[:, \"EnclosedPorch\"] = train.loc[:, \"EnclosedPorch\"].fillna(0)\n",
    "# External stuff : NA most likely means average\n",
    "train.loc[:, \"ExterCond\"] = train.loc[:, \"ExterCond\"].fillna(\"TA\")\n",
    "train.loc[:, \"ExterQual\"] = train.loc[:, \"ExterQual\"].fillna(\"TA\")\n",
    "# Fence : data description says NA means \"no fence\"\n",
    "train.loc[:, \"Fence\"] = train.loc[:, \"Fence\"].fillna(\"No\")\n",
    "# FireplaceQu : data description says NA means \"no fireplace\"\n",
    "train.loc[:, \"FireplaceQu\"] = train.loc[:, \"FireplaceQu\"].fillna(\"No\")\n",
    "train.loc[:, \"Fireplaces\"] = train.loc[:, \"Fireplaces\"].fillna(0)\n",
    "# Functional : data description says NA means typical\n",
    "train.loc[:, \"Functional\"] = train.loc[:, \"Functional\"].fillna(\"Typ\")\n",
    "# GarageType etc : data description says NA for garage features is \"no garage\"\n",
    "train.loc[:, \"GarageType\"] = train.loc[:, \"GarageType\"].fillna(\"No\")\n",
    "train.loc[:, \"GarageFinish\"] = train.loc[:, \"GarageFinish\"].fillna(\"No\")\n",
    "train.loc[:, \"GarageQual\"] = train.loc[:, \"GarageQual\"].fillna(\"No\")\n",
    "train.loc[:, \"GarageCond\"] = train.loc[:, \"GarageCond\"].fillna(\"No\")\n",
    "train.loc[:, \"GarageArea\"] = train.loc[:, \"GarageArea\"].fillna(0)\n",
    "train.loc[:, \"GarageCars\"] = train.loc[:, \"GarageCars\"].fillna(0)\n",
    "# HalfBath : NA most likely means no half baths above grade\n",
    "train.loc[:, \"HalfBath\"] = train.loc[:, \"HalfBath\"].fillna(0)\n",
    "# HeatingQC : NA most likely means typical\n",
    "train.loc[:, \"HeatingQC\"] = train.loc[:, \"HeatingQC\"].fillna(\"TA\")\n",
    "# KitchenAbvGr : NA most likely means 0\n",
    "train.loc[:, \"KitchenAbvGr\"] = train.loc[:, \"KitchenAbvGr\"].fillna(0)\n",
    "# KitchenQual : NA most likely means typical\n",
    "train.loc[:, \"KitchenQual\"] = train.loc[:, \"KitchenQual\"].fillna(\"TA\")\n",
    "# LotFrontage : NA most likely means no lot frontage\n",
    "train.loc[:, \"LotFrontage\"] = train.loc[:, \"LotFrontage\"].fillna(0)\n",
    "# LotShape : NA most likely means regular\n",
    "train.loc[:, \"LotShape\"] = train.loc[:, \"LotShape\"].fillna(\"Reg\")\n",
    "# MasVnrType : NA most likely means no veneer\n",
    "train.loc[:, \"MasVnrType\"] = train.loc[:, \"MasVnrType\"].fillna(\"None\")\n",
    "train.loc[:, \"MasVnrArea\"] = train.loc[:, \"MasVnrArea\"].fillna(0)\n",
    "# MiscFeature : data description says NA means \"no misc feature\"\n",
    "train.loc[:, \"MiscFeature\"] = train.loc[:, \"MiscFeature\"].fillna(\"No\")\n",
    "train.loc[:, \"MiscVal\"] = train.loc[:, \"MiscVal\"].fillna(0)\n",
    "# OpenPorchSF : NA most likely means no open porch\n",
    "train.loc[:, \"OpenPorchSF\"] = train.loc[:, \"OpenPorchSF\"].fillna(0)\n",
    "# PavedDrive : NA most likely means not paved\n",
    "train.loc[:, \"PavedDrive\"] = train.loc[:, \"PavedDrive\"].fillna(\"N\")\n",
    "# PoolQC : data description says NA means \"no pool\"\n",
    "train.loc[:, \"PoolQC\"] = train.loc[:, \"PoolQC\"].fillna(\"No\")\n",
    "train.loc[:, \"PoolArea\"] = train.loc[:, \"PoolArea\"].fillna(0)\n",
    "# SaleCondition : NA most likely means normal sale\n",
    "train.loc[:, \"SaleCondition\"] = train.loc[:, \"SaleCondition\"].fillna(\"Normal\")\n",
    "# ScreenPorch : NA most likely means no screen porch\n",
    "train.loc[:, \"ScreenPorch\"] = train.loc[:, \"ScreenPorch\"].fillna(0)\n",
    "# TotRmsAbvGrd : NA most likely means 0\n",
    "train.loc[:, \"TotRmsAbvGrd\"] = train.loc[:, \"TotRmsAbvGrd\"].fillna(0)\n",
    "# Utilities : NA most likely means all public utilities\n",
    "train.loc[:, \"Utilities\"] = train.loc[:, \"Utilities\"].fillna(\"AllPub\")\n",
    "# WoodDeckSF : NA most likely means no wood deck\n",
    "train.loc[:, \"WoodDeckSF\"] = train.loc[:, \"WoodDeckSF\"].fillna(0)\n",
    "# TotalBsmtSF : NA most likely means no basement\n",
    "train.loc[:, \"TotalBsmtSF\"] = train.loc[:, \"TotalBsmtSF\"].fillna(0)\n",
    "train.loc[:, \"BsmtFinSF1\"] = train.loc[:, \"BsmtFinSF1\"].fillna(0)\n",
    "#Electrical : NA most likely means no electricity in the house\n",
    "train.loc[:, \"Electrical\"] = train.loc[:, \"Electrical\"].fillna(\"None\")\n",
    "\n",
    "# Some numerical features are actually really categories\n",
    "train = train.replace({\"MSSubClass\" : {20 : \"SC20\", 30 : \"SC30\", 40 : \"SC40\", 45 : \"SC45\", \n",
    "                                       50 : \"SC50\", 60 : \"SC60\", 70 : \"SC70\", 75 : \"SC75\", \n",
    "                                       80 : \"SC80\", 85 : \"SC85\", 90 : \"SC90\", 120 : \"SC120\", \n",
    "                                       150 : \"SC150\", 160 : \"SC160\", 180 : \"SC180\", 190 : \"SC190\"},\n",
    "                       \"MoSold\" : {1 : \"Jan\", 2 : \"Feb\", 3 : \"Mar\", 4 : \"Apr\", 5 : \"May\", 6 : \"Jun\",\n",
    "                                   7 : \"Jul\", 8 : \"Aug\", 9 : \"Sep\", 10 : \"Oct\", 11 : \"Nov\", 12 : \"Dec\"}\n",
    "                      })\n",
    "\n",
    "# Encode some categorical features as ordered numbers when there is information in the order\n",
    "train = train.replace({\"Alley\" : {\"Grvl\" : 1, \"Pave\" : 2},\n",
    "                       \"BsmtCond\" : {\"No\" : 0, \"Po\" : 1, \"Fa\" : 2, \"TA\" : 3, \"Gd\" : 4, \"Ex\" : 5},\n",
    "                       \"BsmtExposure\" : {\"No\" : 0, \"Mn\" : 1, \"Av\": 2, \"Gd\" : 3},\n",
    "                       \"BsmtFinType1\" : {\"No\" : 0, \"Unf\" : 1, \"LwQ\": 2, \"Rec\" : 3, \"BLQ\" : 4, \n",
    "                                         \"ALQ\" : 5, \"GLQ\" : 6},\n",
    "                       \"BsmtFinType2\" : {\"No\" : 0, \"Unf\" : 1, \"LwQ\": 2, \"Rec\" : 3, \"BLQ\" : 4, \n",
    "                                         \"ALQ\" : 5, \"GLQ\" : 6},\n",
    "                       \"BsmtQual\" : {\"No\" : 0, \"Po\" : 1, \"Fa\" : 2, \"TA\": 3, \"Gd\" : 4, \"Ex\" : 5},\n",
    "                       \"ExterCond\" : {\"Po\" : 1, \"Fa\" : 2, \"TA\": 3, \"Gd\": 4, \"Ex\" : 5},\n",
    "                       \"ExterQual\" : {\"Po\" : 1, \"Fa\" : 2, \"TA\": 3, \"Gd\": 4, \"Ex\" : 5},\n",
    "                       \"FireplaceQu\" : {\"No\" : 0, \"Po\" : 1, \"Fa\" : 2, \"TA\" : 3, \"Gd\" : 4, \"Ex\" : 5},\n",
    "                       \"Functional\" : {\"Sal\" : 1, \"Sev\" : 2, \"Maj2\" : 3, \"Maj1\" : 4, \"Mod\": 5, \n",
    "                                       \"Min2\" : 6, \"Min1\" : 7, \"Typ\" : 8},\n",
    "                       \"GarageCond\" : {\"No\" : 0, \"Po\" : 1, \"Fa\" : 2, \"TA\" : 3, \"Gd\" : 4, \"Ex\" : 5},\n",
    "                       \"GarageQual\" : {\"No\" : 0, \"Po\" : 1, \"Fa\" : 2, \"TA\" : 3, \"Gd\" : 4, \"Ex\" : 5},\n",
    "                       \"HeatingQC\" : {\"Po\" : 1, \"Fa\" : 2, \"TA\" : 3, \"Gd\" : 4, \"Ex\" : 5},\n",
    "                       \"KitchenQual\" : {\"Po\" : 1, \"Fa\" : 2, \"TA\" : 3, \"Gd\" : 4, \"Ex\" : 5},\n",
    "                       \"LandSlope\" : {\"Sev\" : 1, \"Mod\" : 2, \"Gtl\" : 3},\n",
    "                       \"LotShape\" : {\"IR3\" : 1, \"IR2\" : 2, \"IR1\" : 3, \"Reg\" : 4},\n",
    "                       \"PavedDrive\" : {\"N\" : 0, \"P\" : 1, \"Y\" : 2},\n",
    "                       \"PoolQC\" : {\"No\" : 0, \"Fa\" : 1, \"TA\" : 2, \"Gd\" : 3, \"Ex\" : 4},\n",
    "                       \"Street\" : {\"Grvl\" : 1, \"Pave\" : 2},\n",
    "                       \"Utilities\" : {\"ELO\" : 1, \"NoSeWa\" : 2, \"NoSewr\" : 3, \"AllPub\" : 4}}\n",
    "                     )\n",
    "#repeat with test data\n",
    "test.loc[:, \"Alley\"] = test.loc[:, \"Alley\"].fillna(\"None\")\n",
    "test.loc[:, \"BedroomAbvGr\"] = test.loc[:, \"BedroomAbvGr\"].fillna(0)\n",
    "test.loc[:, \"BsmtQual\"] = test.loc[:, \"BsmtQual\"].fillna(\"No\")\n",
    "test.loc[:, \"BsmtCond\"] = test.loc[:, \"BsmtCond\"].fillna(\"No\")\n",
    "test.loc[:, \"BsmtExposure\"] = test.loc[:, \"BsmtExposure\"].fillna(\"No\")\n",
    "test.loc[:, \"BsmtFinType1\"] = test.loc[:, \"BsmtFinType1\"].fillna(\"No\")\n",
    "test.loc[:, \"BsmtFinType2\"] = test.loc[:, \"BsmtFinType2\"].fillna(\"No\")\n",
    "test.loc[:, \"BsmtFullBath\"] = test.loc[:, \"BsmtFullBath\"].fillna(0)\n",
    "test.loc[:, \"BsmtHalfBath\"] = test.loc[:, \"BsmtHalfBath\"].fillna(0)\n",
    "test.loc[:, \"BsmtUnfSF\"] = test.loc[:, \"BsmtUnfSF\"].fillna(0)\n",
    "test.loc[:, \"CentralAir\"] = test.loc[:, \"CentralAir\"].fillna(\"N\")\n",
    "test.loc[:, \"Condition1\"] = test.loc[:, \"Condition1\"].fillna(\"Norm\")\n",
    "test.loc[:, \"Condition2\"] = test.loc[:, \"Condition2\"].fillna(\"Norm\")\n",
    "test.loc[:, \"EnclosedPorch\"] = test.loc[:, \"EnclosedPorch\"].fillna(0)\n",
    "test.loc[:, \"ExterCond\"] = test.loc[:, \"ExterCond\"].fillna(\"TA\")\n",
    "test.loc[:, \"ExterQual\"] = test.loc[:, \"ExterQual\"].fillna(\"TA\")\n",
    "test.loc[:, \"Fence\"] = test.loc[:, \"Fence\"].fillna(\"No\")\n",
    "test.loc[:, \"FireplaceQu\"] = test.loc[:, \"FireplaceQu\"].fillna(\"No\")\n",
    "test.loc[:, \"Fireplaces\"] = test.loc[:, \"Fireplaces\"].fillna(0)\n",
    "test.loc[:, \"Functional\"] = test.loc[:, \"Functional\"].fillna(\"Typ\")\n",
    "test.loc[:, \"GarageType\"] = test.loc[:, \"GarageType\"].fillna(\"No\")\n",
    "test.loc[:, \"GarageFinish\"] = test.loc[:, \"GarageFinish\"].fillna(\"No\")\n",
    "test.loc[:, \"GarageQual\"] = test.loc[:, \"GarageQual\"].fillna(\"No\")\n",
    "test.loc[:, \"GarageCond\"] = test.loc[:, \"GarageCond\"].fillna(\"No\")\n",
    "test.loc[:, \"GarageArea\"] = test.loc[:, \"GarageArea\"].fillna(0)\n",
    "test.loc[:, \"GarageCars\"] = test.loc[:, \"GarageCars\"].fillna(0)\n",
    "test.loc[:, \"HalfBath\"] = test.loc[:, \"HalfBath\"].fillna(0)\n",
    "test.loc[:, \"HeatingQC\"] = test.loc[:, \"HeatingQC\"].fillna(\"TA\")\n",
    "test.loc[:, \"KitchenAbvGr\"] = test.loc[:, \"KitchenAbvGr\"].fillna(0)\n",
    "test.loc[:, \"KitchenQual\"] = test.loc[:, \"KitchenQual\"].fillna(\"TA\")\n",
    "test.loc[:, \"LotFrontage\"] = test.loc[:, \"LotFrontage\"].fillna(0)\n",
    "test.loc[:, \"LotShape\"] = test.loc[:, \"LotShape\"].fillna(\"Reg\")\n",
    "test.loc[:, \"MasVnrType\"] = test.loc[:, \"MasVnrType\"].fillna(\"None\")\n",
    "test.loc[:, \"MasVnrArea\"] = test.loc[:, \"MasVnrArea\"].fillna(0)\n",
    "test.loc[:, \"MiscFeature\"] = test.loc[:, \"MiscFeature\"].fillna(\"No\")\n",
    "test.loc[:, \"MiscVal\"] = test.loc[:, \"MiscVal\"].fillna(0)\n",
    "test.loc[:, \"OpenPorchSF\"] = test.loc[:, \"OpenPorchSF\"].fillna(0)\n",
    "test.loc[:, \"PavedDrive\"] = test.loc[:, \"PavedDrive\"].fillna(\"N\")\n",
    "test.loc[:, \"PoolQC\"] = test.loc[:, \"PoolQC\"].fillna(\"No\")\n",
    "test.loc[:, \"PoolArea\"] = test.loc[:, \"PoolArea\"].fillna(0)\n",
    "test.loc[:, \"SaleCondition\"] = test.loc[:, \"SaleCondition\"].fillna(\"Normal\")\n",
    "test.loc[:, \"ScreenPorch\"] = test.loc[:, \"ScreenPorch\"].fillna(0)\n",
    "test.loc[:, \"TotRmsAbvGrd\"] = test.loc[:, \"TotRmsAbvGrd\"].fillna(0)\n",
    "test.loc[:, \"Utilities\"] = test.loc[:, \"Utilities\"].fillna(\"AllPub\")\n",
    "test.loc[:, \"WoodDeckSF\"] = test.loc[:, \"WoodDeckSF\"].fillna(0)\n",
    "test.loc[:, \"TotalBsmtSF\"] = test.loc[:, \"TotalBsmtSF\"].fillna(0)\n",
    "test.loc[:, \"BsmtFinSF1\"] = test.loc[:, \"BsmtFinSF1\"].fillna(0)\n",
    "test.loc[:, \"Electrical\"] = test.loc[:, \"Electrical\"].fillna(\"None\")\n",
    "\n",
    "test = test.replace({\"MSSubClass\" : {20 : \"SC20\", 30 : \"SC30\", 40 : \"SC40\", 45 : \"SC45\", \n",
    "                                       50 : \"SC50\", 60 : \"SC60\", 70 : \"SC70\", 75 : \"SC75\", \n",
    "                                       80 : \"SC80\", 85 : \"SC85\", 90 : \"SC90\", 120 : \"SC120\", \n",
    "                                       150 : \"SC150\", 160 : \"SC160\", 180 : \"SC180\", 190 : \"SC190\"},\n",
    "                       \"MoSold\" : {1 : \"Jan\", 2 : \"Feb\", 3 : \"Mar\", 4 : \"Apr\", 5 : \"May\", 6 : \"Jun\",\n",
    "                                   7 : \"Jul\", 8 : \"Aug\", 9 : \"Sep\", 10 : \"Oct\", 11 : \"Nov\", 12 : \"Dec\"}\n",
    "                      })\n",
    "\n",
    "test = test.replace({\"Alley\" : {\"Grvl\" : 1, \"Pave\" : 2},\n",
    "                       \"BsmtCond\" : {\"No\" : 0, \"Po\" : 1, \"Fa\" : 2, \"TA\" : 3, \"Gd\" : 4, \"Ex\" : 5},\n",
    "                       \"BsmtExposure\" : {\"No\" : 0, \"Mn\" : 1, \"Av\": 2, \"Gd\" : 3},\n",
    "                       \"BsmtFinType1\" : {\"No\" : 0, \"Unf\" : 1, \"LwQ\": 2, \"Rec\" : 3, \"BLQ\" : 4, \n",
    "                                         \"ALQ\" : 5, \"GLQ\" : 6},\n",
    "                       \"BsmtFinType2\" : {\"No\" : 0, \"Unf\" : 1, \"LwQ\": 2, \"Rec\" : 3, \"BLQ\" : 4, \n",
    "                                         \"ALQ\" : 5, \"GLQ\" : 6},\n",
    "                       \"BsmtQual\" : {\"No\" : 0, \"Po\" : 1, \"Fa\" : 2, \"TA\": 3, \"Gd\" : 4, \"Ex\" : 5},\n",
    "                       \"ExterCond\" : {\"Po\" : 1, \"Fa\" : 2, \"TA\": 3, \"Gd\": 4, \"Ex\" : 5},\n",
    "                       \"ExterQual\" : {\"Po\" : 1, \"Fa\" : 2, \"TA\": 3, \"Gd\": 4, \"Ex\" : 5},\n",
    "                       \"FireplaceQu\" : {\"No\" : 0, \"Po\" : 1, \"Fa\" : 2, \"TA\" : 3, \"Gd\" : 4, \"Ex\" : 5},\n",
    "                       \"Functional\" : {\"Sal\" : 1, \"Sev\" : 2, \"Maj2\" : 3, \"Maj1\" : 4, \"Mod\": 5, \n",
    "                                       \"Min2\" : 6, \"Min1\" : 7, \"Typ\" : 8},\n",
    "                       \"GarageCond\" : {\"No\" : 0, \"Po\" : 1, \"Fa\" : 2, \"TA\" : 3, \"Gd\" : 4, \"Ex\" : 5},\n",
    "                       \"GarageQual\" : {\"No\" : 0, \"Po\" : 1, \"Fa\" : 2, \"TA\" : 3, \"Gd\" : 4, \"Ex\" : 5},\n",
    "                       \"HeatingQC\" : {\"Po\" : 1, \"Fa\" : 2, \"TA\" : 3, \"Gd\" : 4, \"Ex\" : 5},\n",
    "                       \"KitchenQual\" : {\"Po\" : 1, \"Fa\" : 2, \"TA\" : 3, \"Gd\" : 4, \"Ex\" : 5},\n",
    "                       \"LandSlope\" : {\"Sev\" : 1, \"Mod\" : 2, \"Gtl\" : 3},\n",
    "                       \"LotShape\" : {\"IR3\" : 1, \"IR2\" : 2, \"IR1\" : 3, \"Reg\" : 4},\n",
    "                       \"PavedDrive\" : {\"N\" : 0, \"P\" : 1, \"Y\" : 2},\n",
    "                       \"PoolQC\" : {\"No\" : 0, \"Fa\" : 1, \"TA\" : 2, \"Gd\" : 3, \"Ex\" : 4},\n",
    "                       \"Street\" : {\"Grvl\" : 1, \"Pave\" : 2},\n",
    "                       \"Utilities\" : {\"ELO\" : 1, \"NoSeWa\" : 2, \"NoSewr\" : 3, \"AllPub\" : 4}}\n",
    "                     )"
   ]
  },
  {
   "cell_type": "code",
   "execution_count": 4,
   "metadata": {},
   "outputs": [
    {
     "name": "stdout",
     "output_type": "stream",
     "text": [
      "Numerical features : 53\n",
      "Categorical features : 26\n"
     ]
    }
   ],
   "source": [
    "# Differentiate numerical features (minus the target) and categorical features\n",
    "categorical_features = train.select_dtypes(include = [\"object\"]).columns\n",
    "numerical_features = train.select_dtypes(exclude = [\"object\"]).columns\n",
    "numerical_features = numerical_features.drop(\"SalePrice\")\n",
    "print(\"Numerical features : \" + str(len(numerical_features)))\n",
    "print(\"Categorical features : \" + str(len(categorical_features)))\n",
    "train_num = train[numerical_features]\n",
    "train_cat = train[categorical_features]"
   ]
  },
  {
   "cell_type": "code",
   "execution_count": 5,
   "metadata": {},
   "outputs": [
    {
     "name": "stdout",
     "output_type": "stream",
     "text": [
      "NAs for numerical features in train : 81\n",
      "Remaining NAs for numerical features in train : 0\n"
     ]
    }
   ],
   "source": [
    "# Handle remaining missing values for numerical features by using median as replacement\n",
    "print(\"NAs for numerical features in train : \" + str(train_num.isnull().values.sum()))\n",
    "train_num = train_num.fillna(train_num.median())\n",
    "print(\"Remaining NAs for numerical features in train : \" + str(train_num.isnull().values.sum()))"
   ]
  },
  {
   "cell_type": "code",
   "execution_count": 6,
   "metadata": {},
   "outputs": [
    {
     "data": {
      "image/png": "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\n",
      "text/plain": [
       "<Figure size 432x288 with 1 Axes>"
      ]
     },
     "metadata": {
      "needs_background": "light"
     },
     "output_type": "display_data"
    }
   ],
   "source": [
    "import matplotlib.pyplot as plt\n",
    "%matplotlib inline\n",
    "\n",
    "#checking for any outliers\n",
    "plt.scatter(train.GrLivArea, train.SalePrice, marker=\"s\")\n",
    "plt.title(\"Looking for outliers\")\n",
    "plt.xlabel(\"GrLivArea\")\n",
    "plt.ylabel(\"SalePrice\")\n",
    "plt.show()"
   ]
  },
  {
   "cell_type": "code",
   "execution_count": 7,
   "metadata": {},
   "outputs": [],
   "source": [
    "#There seem to be outliers where the size of the house is larger than 4000 sq. ft\n",
    "#It would be best to remove them\n",
    "train = train[train.GrLivArea < 4000]"
   ]
  },
  {
   "cell_type": "code",
   "execution_count": 8,
   "metadata": {},
   "outputs": [
    {
     "name": "stdout",
     "output_type": "stream",
     "text": [
      "SalePrice        1.000\n",
      "OverallQual      0.801\n",
      "GrLivArea        0.721\n",
      "ExterQual        0.695\n",
      "KitchenQual      0.666\n",
      "GarageCars       0.649\n",
      "TotalBsmtSF      0.647\n",
      "GarageArea       0.637\n",
      "1stFlrSF         0.625\n",
      "BsmtQual         0.592\n",
      "FullBath         0.559\n",
      "TotRmsAbvGrd     0.537\n",
      "YearBuilt        0.535\n",
      "FireplaceQu      0.529\n",
      "YearRemodAdd     0.521\n",
      "GarageYrBlt      0.499\n",
      "MasVnrArea       0.474\n",
      "Fireplaces       0.467\n",
      "HeatingQC        0.435\n",
      "BsmtFinSF1       0.396\n",
      "BsmtExposure     0.360\n",
      "OpenPorchSF      0.330\n",
      "WoodDeckSF       0.323\n",
      "BsmtFinType1     0.305\n",
      "2ndFlrSF         0.297\n",
      "HalfBath         0.283\n",
      "GarageQual       0.281\n",
      "GarageCond       0.270\n",
      "LotArea          0.270\n",
      "PavedDrive       0.237\n",
      "BsmtFullBath     0.236\n",
      "BsmtUnfSF        0.221\n",
      "BsmtCond         0.219\n",
      "LotFrontage      0.202\n",
      "BedroomAbvGr     0.161\n",
      "ScreenPorch      0.118\n",
      "Functional       0.109\n",
      "3SsnPorch        0.047\n",
      "Street           0.042\n",
      "PoolArea         0.033\n",
      "PoolQC           0.031\n",
      "ExterCond        0.022\n",
      "Utilities        0.015\n",
      "BsmtFinType2    -0.003\n",
      "BsmtFinSF2      -0.009\n",
      "MiscVal         -0.021\n",
      "YrSold          -0.024\n",
      "LowQualFinSF    -0.025\n",
      "BsmtHalfBath    -0.037\n",
      "LandSlope       -0.055\n",
      "OverallCond     -0.080\n",
      "EnclosedPorch   -0.130\n",
      "KitchenAbvGr    -0.139\n",
      "LotShape        -0.270\n",
      "Name: SalePrice, dtype: float64\n"
     ]
    }
   ],
   "source": [
    "#Look at the correlation to sale price and select the top 10 for the model\n",
    "corr = train.corr()\n",
    "corr.sort_values([\"SalePrice\"], ascending = False, inplace = True)\n",
    "print(corr.SalePrice)"
   ]
  },
  {
   "cell_type": "code",
   "execution_count": 9,
   "metadata": {},
   "outputs": [],
   "source": [
    "from sklearn.metrics import mean_squared_error, make_scorer\n",
    "import numpy as np\n",
    "\n",
    "# Use root mean square error for checking the error\n",
    "scorer = make_scorer(mean_squared_error, greater_is_better = False)\n",
    "\n",
    "def rmse_cv_train(model):\n",
    "    rmse= np.sqrt(-cross_val_score(model, X_train, y_train, scoring = scorer, cv = 10))\n",
    "    return(rmse)\n",
    "\n",
    "def rmse_cv_test(model):\n",
    "    rmse= np.sqrt(-cross_val_score(model, X_test, y_test, scoring = scorer, cv = 10))\n",
    "    return(rmse)"
   ]
  },
  {
   "cell_type": "code",
   "execution_count": 10,
   "metadata": {},
   "outputs": [],
   "source": [
    "from sklearn.model_selection import cross_val_score, train_test_split\n",
    "\n",
    "#Select all features that positively correlate to saleprice\n",
    "features = [\"OverallQual\",\"GrLivArea\",\"ExterQual\",\"KitchenQual\",\"GarageCars\",\"TotalBsmtSF\",\"GarageArea\",\"1stFlrSF\",\"BsmtQual\",\"FullBath\",\"TotRmsAbvGrd\",\"YearBuilt\",\"FireplaceQu\",\"YearRemodAdd\",\"MasVnrArea\",\"Fireplaces\",\"HeatingQC\",\"BsmtFinSF1\",\"BsmtExposure\",\"OpenPorchSF\",\"WoodDeckSF\",\"BsmtFinType1\",\"2ndFlrSF\",\"HalfBath\",\"GarageQual\",\"GarageCond\",\"LotArea\",\"PavedDrive\",\"BsmtFullBath\",\"BsmtUnfSF\",\"BsmtCond\",\"LotFrontage\",\"BedroomAbvGr\",\"ScreenPorch\",\"Functional\",\"3SsnPorch\",\"Street\",\"PoolArea\",\"PoolQC\",\"ExterCond\",\"Utilities\"]\n",
    "X = train[features]\n",
   ]
  },
  {
   "cell_type": "code",
   "execution_count": 11,
   "metadata": {
    "scrolled": true
   },
   "outputs": [
    {
     "name": "stdout",
     "output_type": "stream",
     "text": [
      "X_train : (1164, 41)\n",
      "X_test : (292, 41)\n",
      "y_train : (1164,)\n",
      "y_test : (292,)\n"
     ]
    }
   ],
   "source": [
    "train.SalePrice = np.log1p(train.SalePrice)\n",
    "y = train.SalePrice\n",
    "\n",
    "# Use 80% of the train data to test the model, then check using the remaining 20%\n",
    "X_train, X_test, y_train, y_test = train_test_split(X, y, test_size = 0.2, random_state = 0)\n",
    "print(\"X_train :\",X_train.shape)\n",
    "print(\"X_test :\",X_test.shape)\n",
    "print(\"y_train :\",y_train.shape)\n",
    "print(\"y_test :\",y_test.shape)"
   ]
  },
  {
   "cell_type": "code",
   "execution_count": 12,
   "metadata": {},
   "outputs": [
    {
     "name": "stdout",
     "output_type": "stream",
     "text": [
      "RMSE on Training set : 0.13736576028813313\n",
      "RMSE on Test set : 0.13530396514454837\n"
     ]
    }
   ],
   "source": [
    "from sklearn.linear_model import LinearRegression, RidgeCV, LassoCV, ElasticNetCV\n",
    "\n",
    "# create the linear regression model using the train data\n",
    "lr = LinearRegression()\n",
    "lr.fit(X_train, y_train)\n",
    "\n",
    "# calculate the root mean square error on the train and test data\n",
    "print(\"RMSE on Training set :\", rmse_cv_train(lr).mean())\n",
    "print(\"RMSE on Test set :\", rmse_cv_test(lr).mean())\n",
    "y_train_pred = lr.predict(X_train)\n",
    "y_test_pred = lr.predict(X_test)"
   ]
  },
  {
   "cell_type": "code",
   "execution_count": 13,
   "metadata": {},
   "outputs": [
    {
     "data": {
      "image/png": "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\n",
      "text/plain": [
       "<Figure size 432x288 with 1 Axes>"
      ]
     },
     "metadata": {
      "needs_background": "light"
     },
     "output_type": "display_data"
    }
   ],
   "source": [
    "# Show a plot of the training and test data and the linear model used to predict it\n",
    "plt.scatter(y_train_pred, y_train, c = \"blue\", marker = \"s\", label = \"Training data\")\n",
    "plt.scatter(y_test_pred, y_test, c = \"lightgreen\", marker = \"s\", label = \"Validation data\")\n",
    "plt.title(\"Linear regression\")\n",
    "plt.xlabel(\"Predicted values\")\n",
    "plt.ylabel(\"Real values\")\n",
    "plt.legend(loc = \"upper left\")\n",
    "plt.plot([10.5, 13.5], [10.5, 13.5], c = \"red\")\n",
    "plt.show()"
   ]
  },
  {
   "cell_type": "code",
   "execution_count": 14,
   "metadata": {},
   "outputs": [
    {
     "name": "stdout",
     "output_type": "stream",
     "text": [
      "        Id  SalePrice\n",
      "0     1461 121254.999\n",
      "1     1462 157143.168\n",
      "2     1463 176122.166\n",
      "3     1464 196288.136\n",
      "4     1465 192992.802\n",
      "5     1466 167889.795\n",
      "6     1467 172694.553\n",
      "7     1468 159575.828\n",
      "8     1469 197952.712\n",
      "9     1470 114084.646\n",
      "10    1471 206992.448\n",
      "11    1472 113613.595\n",
      "12    1473 109347.705\n",
      "13    1474 154765.376\n",
      "14    1475 122825.193\n",
      "15    1476 336469.174\n",
      "16    1477 225986.483\n",
      "17    1478 277147.000\n",
      "18    1479 266894.110\n",
      "19    1480 528732.291\n",
      "20    1481 326767.644\n",
      "21    1482 209930.476\n",
      "22    1483 174933.642\n",
      "23    1484 173280.777\n",
      "24    1485 187820.353\n",
      "25    1486 202544.358\n",
      "26    1487 329513.864\n",
      "27    1488 236665.296\n",
      "28    1489 181356.064\n",
      "29    1490 234138.504\n",
      "...    ...        ...\n",
      "1429  2890  79401.059\n",
      "1430  2891 142736.409\n",
      "1431  2892  57178.094\n",
      "1432  2893  91489.925\n",
      "1433  2894  49869.020\n",
      "1434  2895 307898.417\n",
      "1435  2896 284282.474\n",
      "1436  2897 192006.710\n",
      "1437  2898 165770.094\n",
      "1438  2899 206866.176\n",
      "1439  2900 150959.554\n",
      "1440  2901 211455.976\n",
      "1441  2902 195467.382\n",
      "1442  2903 326125.140\n",
      "1443  2904 354214.478\n",
      "1444  2905  78086.947\n",
      "1445  2906 209735.816\n",
      "1446  2907 121212.801\n",
      "1447  2908 125154.570\n",
      "1448  2909 156365.725\n",
      "1449  2910  84798.497\n",
      "1450  2911 100248.002\n",
      "1451  2912 142026.614\n",
      "1452  2913 102816.964\n",
      "1453  2914  88819.615\n",
      "1454  2915  90917.132\n",
      "1455  2916 102105.443\n",
      "1456  2917 177897.412\n",
      "1457  2918 111906.452\n",
      "1458  2919 232089.404\n",
      "\n",
      "[1459 rows x 2 columns]\n"
     ]
    },
    {
     "name": "stderr",
     "output_type": "stream",
     "text": [
      "F:\\Users\\Marius\\Anaconda3\\lib\\site-packages\\ipykernel_launcher.py:6: SettingWithCopyWarning: \n",
      "A value is trying to be set on a copy of a slice from a DataFrame.\n",
      "Try using .loc[row_indexer,col_indexer] = value instead\n",
      "\n",
      "See the caveats in the documentation: http://pandas.pydata.org/pandas-docs/stable/indexing.html#indexing-view-versus-copy\n",
      "  \n"
     ]
    }
   ],
   "source": [
    "# Generate test data\n",
    "X_final = test[features]\n",
    "\n",
    "output = test[[\"Id\"]]\n",
    "#output data to CSV file\n",
    "output[\"SalePrice\"] = np.expm1(lr.predict(X_final))\n",
    "print(output) #sanity check values\n",
    "output[[\"Id\",\"SalePrice\"]].to_csv(\"output.csv\",index=False)"
   ]
  },
  {
   "cell_type": "code",
   "execution_count": null,
   "metadata": {},
   "outputs": [],
   "source": []
  }
 ],
 "metadata": {
  "kernelspec": {
   "display_name": "Python 3",
   "language": "python",
   "name": "python3"
  },
  "language_info": {
   "codemirror_mode": {
    "name": "ipython",
    "version": 3
   },
   "file_extension": ".py",
   "mimetype": "text/x-python",
   "name": "python",
   "nbconvert_exporter": "python",
   "pygments_lexer": "ipython3",
   "version": "3.7.1"
  }
 },
 "nbformat": 4,
 "nbformat_minor": 2
}
