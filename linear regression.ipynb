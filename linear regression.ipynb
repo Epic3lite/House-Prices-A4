{
 "cells": [
  {
   "cell_type": "code",
   "execution_count": 1,
   "metadata": {},
   "outputs": [
    {
     "name": "stdout",
     "output_type": "stream",
     "text": [
      "train (rows,cols): (1460, 81)\n",
      "test (rows,cols) (1459, 80)\n"
     ]
    }
   ],
   "source": [
    "import pandas as pd\n",
    "pd.set_option('display.float_format', lambda x: '%.3f' % x)\n",
    "\n",
    "train = pd.read_csv(\"train.csv\")\n",
    "test = pd.read_csv(\"test.csv\")\n",
    "print(\"train (rows,cols):\",train.shape)\n",
    "print(\"test (rows,cols)\",test.shape)"
   ]
  },
  {
   "cell_type": "code",
   "execution_count": 2,
   "metadata": {},
   "outputs": [],
   "source": [
    "# remove the Id column\n",
    "train.drop(\"Id\", axis = 1, inplace = True)"
   ]
  },
  {
   "cell_type": "code",
   "execution_count": 3,
   "metadata": {},
   "outputs": [
    {
     "data": {
      "image/png": "[encoded data removed]",
      "text/plain": [
       "<Figure size 432x288 with 1 Axes>"
      ]
     },
     "metadata": {
      "needs_background": "light"
     },
     "output_type": "display_data"
    }
   ],
   "source": [
    "import matplotlib.pyplot as plt\n",
    "%matplotlib inline\n",
    "\n",
    "#checking for any outliers\n",
    "plt.scatter(train.GrLivArea, train.SalePrice, marker=\"s\")\n",
    "plt.title(\"Looking for outliers\")\n",
    "plt.xlabel(\"GrLivArea\")\n",
    "plt.ylabel(\"SalePrice\")\n",
    "plt.show()"
   ]
  },
  {
   "cell_type": "code",
   "execution_count": 4,
   "metadata": {},
   "outputs": [],
   "source": [
    "#There seem to be outliers where the size of the house is larger than 4000 sq. ft\n",
    "#It would be best to remove them\n",
    "train = train[train.GrLivArea < 4000]"
   ]
  },
  {
   "cell_type": "code",
   "execution_count": 5,
   "metadata": {},
   "outputs": [
    {
     "name": "stdout",
     "output_type": "stream",
     "text": [
      "SalePrice        1.000\n",
      "OverallQual      0.801\n",
      "GrLivArea        0.721\n",
      "GarageCars       0.649\n",
      "TotalBsmtSF      0.647\n",
      "GarageArea       0.637\n",
      "1stFlrSF         0.625\n",
      "FullBath         0.559\n",
      "TotRmsAbvGrd     0.537\n",
      "YearBuilt        0.535\n",
      "YearRemodAdd     0.521\n",
      "GarageYrBlt      0.499\n",
      "MasVnrArea       0.479\n",
      "Fireplaces       0.467\n",
      "BsmtFinSF1       0.396\n",
      "LotFrontage      0.357\n",
      "OpenPorchSF      0.330\n",
      "WoodDeckSF       0.323\n",
      "2ndFlrSF         0.297\n",
      "HalfBath         0.283\n",
      "LotArea          0.270\n",
      "BsmtFullBath     0.236\n",
      "BsmtUnfSF        0.221\n",
      "BedroomAbvGr     0.161\n",
      "ScreenPorch      0.118\n",
      "MoSold           0.057\n",
      "3SsnPorch        0.047\n",
      "PoolArea         0.033\n",
      "BsmtFinSF2      -0.009\n",
      "MiscVal         -0.021\n",
      "YrSold          -0.024\n",
      "LowQualFinSF    -0.025\n",
      "BsmtHalfBath    -0.037\n",
      "OverallCond     -0.080\n",
      "MSSubClass      -0.088\n",
      "EnclosedPorch   -0.130\n",
      "KitchenAbvGr    -0.139\n",
      "Name: SalePrice, dtype: float64\n"
     ]
    }
   ],
   "source": [
    "#Look at the correlation to sale price and select the top 10 for the model\n",
    "corr = train.corr()\n",
    "corr.sort_values([\"SalePrice\"], ascending = False, inplace = True)\n",
    "print(corr.SalePrice)"
   ]
  },
  {
   "cell_type": "code",
   "execution_count": 6,
   "metadata": {},
   "outputs": [],
   "source": [
    "from sklearn.metrics import mean_squared_error, make_scorer\n",
    "import numpy as np\n",
    "\n",
    "# Use root mean square error for checking the error\n",
    "scorer = make_scorer(mean_squared_error, greater_is_better = False)\n",
    "\n",
    "def rmse_cv_train(model):\n",
    "    rmse= np.sqrt(-cross_val_score(model, X_train, y_train, scoring = scorer, cv = 10))\n",
    "    return(rmse)\n",
    "\n",
    "def rmse_cv_test(model):\n",
    "    rmse= np.sqrt(-cross_val_score(model, X_test, y_test, scoring = scorer, cv = 10))\n",
    "    return(rmse)"
   ]
  },
  {
   "cell_type": "code",
   "execution_count": 7,
   "metadata": {
    "scrolled": true
   },
   "outputs": [
    {
     "name": "stdout",
     "output_type": "stream",
     "text": [
      "X_train : (1164, 10)\n",
      "X_test : (292, 10)\n",
      "y_train : (1164,)\n",
      "y_test : (292,)\n"
     ]
    }
   ],
   "source": [
    "from sklearn.model_selection import cross_val_score, train_test_split\n",
    "\n",
    "#Select the top 10 highest correlating factors\n",
    "features = [\"OverallQual\",\"GrLivArea\",\"GarageCars\",\"TotalBsmtSF\",\"GarageArea\",\"1stFlrSF\",\"FullBath\",\"TotRmsAbvGrd\",\"YearBuilt\",\"YearRemodAdd\"]\n",
    "X = train[features]\n",
    "\n",
    "y = train.SalePrice\n",
    "\n",
    "# Use 80% of the train data to test the model, then check using the remaining 20%\n",
    "X_train, X_test, y_train, y_test = train_test_split(X, y, test_size = 0.2, random_state = 0)\n",
    "print(\"X_train :\",X_train.shape)\n",
    "print(\"X_test :\",X_test.shape)\n",
    "print(\"y_train :\",y_train.shape)\n",
    "print(\"y_test :\",y_test.shape)"
   ]
  },
  {
   "cell_type": "code",
   "execution_count": 8,
   "metadata": {},
   "outputs": [
    {
     "name": "stdout",
     "output_type": "stream",
     "text": [
      "RMSE on Training set : 32573.81690067953\n",
      "RMSE on Test set : 31976.080622105586\n"
     ]
    }
   ],
   "source": [
    "from sklearn.linear_model import LinearRegression, RidgeCV, LassoCV, ElasticNetCV\n",
    "\n",
    "# create the linear regression model using the train data\n",
    "lr = LinearRegression()\n",
    "lr.fit(X_train, y_train)\n",
    "\n",
    "# calculate the root mean square error on the train and test data\n",
    "print(\"RMSE on Training set :\", rmse_cv_train(lr).mean())\n",
    "print(\"RMSE on Test set :\", rmse_cv_test(lr).mean())\n",
    "y_train_pred = lr.predict(X_train)\n",
    "y_test_pred = lr.predict(X_test)"
   ]
  },
  {
   "cell_type": "code",
   "execution_count": 9,
   "metadata": {},
   "outputs": [
    {
     "data": {
      "image/png": "[encoded data removed]",
      "text/plain": [
       "<Figure size 432x288 with 1 Axes>"
      ]
     },
     "metadata": {
      "needs_background": "light"
     },
     "output_type": "display_data"
    }
   ],
   "source": [
    "# Show a plot of the training and test data and the linear model used to predict it\n",
    "plt.scatter(y_train_pred, y_train, c = \"blue\", marker = \"s\", label = \"Training data\")\n",
    "plt.scatter(y_test_pred, y_test, c = \"lightgreen\", marker = \"s\", label = \"Validation data\")\n",
    "plt.title(\"Linear regression\")\n",
    "plt.xlabel(\"Predicted values\")\n",
    "plt.ylabel(\"Real values\")\n",
    "plt.legend(loc = \"upper left\")\n",
    "plt.plot([50000,310000], [65000, 340000], c = \"red\")\n",
    "plt.show()"
   ]
  },
  {
   "cell_type": "code",
   "execution_count": 10,
   "metadata": {},
   "outputs": [
    {
     "name": "stdout",
     "output_type": "stream",
     "text": [
      "        Id  SalesPrice\n",
      "0     1461  119342.344\n",
      "1     1462  164096.961\n",
      "2     1463  171563.427\n",
      "3     1464  186034.744\n",
      "4     1465  213433.270\n",
      "5     1466  177954.165\n",
      "6     1467  170864.891\n",
      "7     1468  168494.566\n",
      "8     1469  209967.158\n",
      "9     1470  101020.238\n",
      "10    1471  209630.919\n",
      "11    1472  112546.927\n",
      "12    1473  105902.720\n",
      "13    1474  158329.241\n",
      "14    1475  140177.816\n",
      "15    1476  328536.665\n",
      "16    1477  266410.532\n",
      "17    1478  291258.866\n",
      "18    1479  285646.656\n",
      "19    1480  408047.356\n",
      "20    1481  306671.092\n",
      "21    1482  230669.178\n",
      "22    1483  189781.432\n",
      "23    1484  188408.603\n",
      "24    1485  170255.271\n",
      "25    1486  209597.695\n",
      "26    1487  323917.502\n",
      "27    1488  270126.166\n",
      "28    1489  208289.798\n",
      "29    1490  208734.824\n",
      "...    ...         ...\n",
      "1429  2890   44297.472\n",
      "1430  2891  159885.945\n",
      "1431  2892    8425.506\n",
      "1432  2893   99535.961\n",
      "1433  2894   16571.247\n",
      "1434  2895  267877.628\n",
      "1435  2896  259255.516\n",
      "1436  2897  210511.301\n",
      "1437  2898  213809.158\n",
      "1438  2899  240073.239\n",
      "1439  2900  159606.196\n",
      "1440  2901  206259.981\n",
      "1441  2902  196182.802\n",
      "1442  2903  294257.764\n",
      "1443  2904  303731.842\n",
      "1444  2905   52623.441\n",
      "1445  2906  217911.590\n",
      "1446  2907  116701.094\n",
      "1447  2908  116300.561\n",
      "1448  2909  204374.759\n",
      "1449  2910   52974.598\n",
      "1450  2911   88693.723\n",
      "1451  2912  152959.530\n",
      "1452  2913   88662.469\n",
      "1453  2914   76871.960\n",
      "1454  2915   76871.960\n",
      "1455  2916   88236.346\n",
      "1456  2917  159875.788\n",
      "1457  2918  116603.809\n",
      "1458  2919  234240.479\n",
      "\n",
      "[1459 rows x 2 columns]\n"
     ]
    },
    {
     "name": "stderr",
     "output_type": "stream",
     "text": [
      "/home/n/anaconda3/lib/python3.7/site-packages/ipykernel_launcher.py:11: SettingWithCopyWarning: \n",
      "A value is trying to be set on a copy of a slice from a DataFrame.\n",
      "Try using .loc[row_indexer,col_indexer] = value instead\n",
      "\n",
      "See the caveats in the documentation: http://pandas.pydata.org/pandas-docs/stable/indexing.html#indexing-view-versus-copy\n",
      "  # This is added back by InteractiveShellApp.init_path()\n"
     ]
    }
   ],
   "source": [
    "# Generate test data\n",
    "#replace NAs with dummy data\n",
    "test.loc[:, \"TotalBsmtSF\"] = test.loc[:, \"TotalBsmtSF\"].fillna(0)\n",
    "test.loc[:, \"GrLivArea\"] = test.loc[:, \"GrLivArea\"].fillna(0)\n",
    "test.loc[:, \"GarageArea\"] = test.loc[:, \"GarageArea\"].fillna(0)\n",
    "test.loc[:, \"GarageCars\"] = test.loc[:, \"GarageCars\"].fillna(0)\n",
    "#featuresID = [\"Id\",\"OverallQual\",\"GrLivArea\",\"GarageCars\",\"TotalBsmtSF\",\"GarageArea\",\"1stFlrSF\",\"FullBath\",\"TotRmsAbvGrd\",\"YearBuilt\",\"YearRemodAdd\"]\n",
    "X_final = test[features]\n",
    "output = test[[\"Id\"]]\n",
    "#output data to CSV file\n",
    "output[\"SalesPrice\"] = lr.predict(X_final)\n",
    "print(output)\n",
    "output[[\"Id\",\"SalesPrice\"]].to_csv(\"output.csv\",index=False)"
   ]
  },
  {
   "cell_type": "code",
   "execution_count": null,
   "metadata": {},
   "outputs": [],
   "source": []
  }
 ],
 "metadata": {
  "kernelspec": {
   "display_name": "Python 3",
   "language": "python",
   "name": "python3"
  },
  "language_info": {
   "codemirror_mode": {
    "name": "ipython",
    "version": 3
   },
   "file_extension": ".py",
   "mimetype": "text/x-python",
   "name": "python",
   "nbconvert_exporter": "python",
   "pygments_lexer": "ipython3",
   "version": "3.7.1"
  }
 },
 "nbformat": 4,
 "nbformat_minor": 2
}
