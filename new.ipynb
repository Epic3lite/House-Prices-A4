{
 "cells": [
  {
   "cell_type": "code",
   "execution_count": 1,
   "metadata": {},
   "outputs": [
    {
     "name": "stdout",
     "output_type": "stream",
     "text": [
      "train (rows,cols): (1460, 81)\n",
      "test (rows,cols) (1459, 80)\n"
     ]
    }
   ],
   "source": [
    "import pandas as pd\n",
    "import numpy as np \n",
    "pd.set_option('display.float_format', lambda x: '%.3f' % x)\n",
    "\n",
    "train = pd.read_csv(\"M:/TeamChallange/house-prices-advanced-regression-techniques/train.csv\")\n",
    "test = pd.read_csv(\"M:/TeamChallange/house-prices-advanced-regression-techniques/test.csv\")\n",
    "print(\"train (rows,cols):\",train.shape)\n",
    "print(\"test (rows,cols)\",test.shape)"
   ]
  },
  {
   "cell_type": "code",
   "execution_count": 2,
   "metadata": {},
   "outputs": [],
   "source": [
    "# remove the Id column\n",
    "train.drop(\"Id\", axis = 1, inplace = True)"
   ]
  },
  {
   "cell_type": "code",
   "execution_count": null,
   "metadata": {},
   "outputs": [],
   "source": []
  },
  {
   "cell_type": "code",
   "execution_count": null,
   "metadata": {},
   "outputs": [],
   "source": []
  },
  {
   "cell_type": "code",
   "execution_count": null,
   "metadata": {},
   "outputs": [],
   "source": []
  },
  {
   "cell_type": "code",
   "execution_count": null,
   "metadata": {},
   "outputs": [],
   "source": []
  },
  {
   "cell_type": "code",
   "execution_count": null,
   "metadata": {},
   "outputs": [],
   "source": []
  },
  {
   "cell_type": "code",
   "execution_count": null,
   "metadata": {},
   "outputs": [],
   "source": []
  },
  {
   "cell_type": "code",
   "execution_count": 3,
   "metadata": {},
   "outputs": [],
   "source": [
    "#Creating new columns by connecting similar columns\n",
    "train['YrBltAndRemod']=train['YearBuilt']+train['YearRemodAdd']\n",
    "test['YrBltAndRemod']=test['YearBuilt']+test['YearRemodAdd']\n",
    "\n",
    "train['TotalSF'] = train['TotalBsmtSF'] + train['1stFlrSF'] + train['2ndFlrSF']\n",
    "test['TotalSF'] = test['TotalBsmtSF'] + test['1stFlrSF'] + test['2ndFlrSF']\n",
    "\n",
    "train['Total_sqr_footage'] = (train['BsmtFinSF1'] + train['BsmtFinSF2'] + train['1stFlrSF'] + train['2ndFlrSF'])\n",
    "test['Total_sqr_footage'] = (test['BsmtFinSF1'] + test['BsmtFinSF2'] + test['1stFlrSF'] + test['2ndFlrSF'])\n",
    "\n",
    "train['Total_Bathrooms'] = (train['FullBath'] + (0.5 * train['HalfBath']) + train['BsmtFullBath'] + (0.5 * train['BsmtHalfBath']))\n",
    "test['Total_Bathrooms'] = (test['FullBath'] + (0.5 * test['HalfBath']) + test['BsmtFullBath'] + (0.5 * test['BsmtHalfBath']))\n",
    "\n",
    "train['Total_porch_sf'] = (train['OpenPorchSF'] + train['3SsnPorch'] + train['EnclosedPorch'] + train['ScreenPorch'] + train['WoodDeckSF'])\n",
    "test['Total_porch_sf'] = (test['OpenPorchSF'] + test['3SsnPorch'] + test['EnclosedPorch'] + test['ScreenPorch'] + test['WoodDeckSF'])\n"
   ]
  },
  {
   "cell_type": "code",
   "execution_count": 4,
   "metadata": {},
   "outputs": [],
   "source": [
    "#Removing not useful columns\n",
    "train = train.drop('Utilities',axis=1)\n",
    "test = test.drop('Utilities',axis=1)\n",
    "\n",
    "train = train.drop('Street',axis=1)\n",
    "test = test.drop('Street',axis=1)\n",
    "\n",
    "train = train.drop('PoolQC',axis=1)\n",
    "test = test.drop('PoolQC',axis=1)"
   ]
  },
  {
   "cell_type": "code",
   "execution_count": 5,
   "metadata": {},
   "outputs": [],
   "source": [
    "# Handle missing values for features where median/mean or most common value doesn't make sense\n",
    "\n",
    "# Alley : data description says NA means \"no alley access\"\n",
    "train.loc[:, \"Alley\"] = train.loc[:, \"Alley\"].fillna(\"None\")\n",
    "# BedroomAbvGr : NA most likely means 0\n",
    "train.loc[:, \"BedroomAbvGr\"] = train.loc[:, \"BedroomAbvGr\"].fillna(0)\n",
    "# BsmtQual etc : data description says NA for basement features is \"no basement\"\n",
    "train.loc[:, \"BsmtQual\"] = train.loc[:, \"BsmtQual\"].fillna(\"No\")\n",
    "train.loc[:, \"BsmtCond\"] = train.loc[:, \"BsmtCond\"].fillna(\"No\")\n",
    "train.loc[:, \"BsmtExposure\"] = train.loc[:, \"BsmtExposure\"].fillna(\"No\")\n",
    "train.loc[:, \"BsmtFinType1\"] = train.loc[:, \"BsmtFinType1\"].fillna(\"No\")\n",
    "train.loc[:, \"BsmtFinType2\"] = train.loc[:, \"BsmtFinType2\"].fillna(\"No\")\n",
    "train.loc[:, \"BsmtFullBath\"] = train.loc[:, \"BsmtFullBath\"].fillna(0)\n",
    "train.loc[:, \"BsmtHalfBath\"] = train.loc[:, \"BsmtHalfBath\"].fillna(0)\n",
    "train.loc[:, \"BsmtUnfSF\"] = train.loc[:, \"BsmtUnfSF\"].fillna(0)\n",
    "# CentralAir : NA most likely means No\n",
    "train.loc[:, \"CentralAir\"] = train.loc[:, \"CentralAir\"].fillna(\"N\")\n",
    "# Condition : NA most likely means Normal\n",
    "train.loc[:, \"Condition1\"] = train.loc[:, \"Condition1\"].fillna(\"Norm\")\n",
    "train.loc[:, \"Condition2\"] = train.loc[:, \"Condition2\"].fillna(\"Norm\")\n",
    "# EnclosedPorch : NA most likely means no enclosed porch\n",
    "train.loc[:, \"EnclosedPorch\"] = train.loc[:, \"EnclosedPorch\"].fillna(0)\n",
    "# External stuff : NA most likely means average\n",
    "train.loc[:, \"ExterCond\"] = train.loc[:, \"ExterCond\"].fillna(\"TA\")\n",
    "train.loc[:, \"ExterQual\"] = train.loc[:, \"ExterQual\"].fillna(\"TA\")\n",
    "# Fence : data description says NA means \"no fence\"\n",
    "train.loc[:, \"Fence\"] = train.loc[:, \"Fence\"].fillna(\"No\")\n",
    "# FireplaceQu : data description says NA means \"no fireplace\"\n",
    "train.loc[:, \"FireplaceQu\"] = train.loc[:, \"FireplaceQu\"].fillna(\"No\")\n",
    "train.loc[:, \"Fireplaces\"] = train.loc[:, \"Fireplaces\"].fillna(0)\n",
    "# Functional : data description says NA means typical\n",
    "train.loc[:, \"Functional\"] = train.loc[:, \"Functional\"].fillna(\"Typ\")\n",
    "# GarageType etc : data description says NA for garage features is \"no garage\"\n",
    "train.loc[:, \"GarageType\"] = train.loc[:, \"GarageType\"].fillna(\"No\")\n",
    "train.loc[:, \"GarageFinish\"] = train.loc[:, \"GarageFinish\"].fillna(\"No\")\n",
    "train.loc[:, \"GarageQual\"] = train.loc[:, \"GarageQual\"].fillna(\"No\")\n",
    "train.loc[:, \"GarageCond\"] = train.loc[:, \"GarageCond\"].fillna(\"No\")\n",
    "train.loc[:, \"GarageArea\"] = train.loc[:, \"GarageArea\"].fillna(0)\n",
    "train.loc[:, \"GarageCars\"] = train.loc[:, \"GarageCars\"].fillna(0)\n",
    "# HalfBath : NA most likely means no half baths above grade\n",
    "train.loc[:, \"HalfBath\"] = train.loc[:, \"HalfBath\"].fillna(0)\n",
    "# HeatingQC : NA most likely means typical\n",
    "train.loc[:, \"HeatingQC\"] = train.loc[:, \"HeatingQC\"].fillna(\"TA\")\n",
    "# KitchenAbvGr : NA most likely means 0\n",
    "train.loc[:, \"KitchenAbvGr\"] = train.loc[:, \"KitchenAbvGr\"].fillna(0)\n",
    "# KitchenQual : NA most likely means typical\n",
    "train.loc[:, \"KitchenQual\"] = train.loc[:, \"KitchenQual\"].fillna(\"TA\")\n",
    "# LotFrontage : NA most likely means no lot frontage\n",
    "train.loc[:, \"LotFrontage\"] = train.loc[:, \"LotFrontage\"].fillna(0)\n",
    "# LotShape : NA most likely means regular\n",
    "train.loc[:, \"LotShape\"] = train.loc[:, \"LotShape\"].fillna(\"Reg\")\n",
    "# MasVnrType : NA most likely means no veneer\n",
    "train.loc[:, \"MasVnrType\"] = train.loc[:, \"MasVnrType\"].fillna(\"None\")\n",
    "train.loc[:, \"MasVnrArea\"] = train.loc[:, \"MasVnrArea\"].fillna(0)\n",
    "# MiscFeature : data description says NA means \"no misc feature\"\n",
    "train.loc[:, \"MiscFeature\"] = train.loc[:, \"MiscFeature\"].fillna(\"No\")\n",
    "train.loc[:, \"MiscVal\"] = train.loc[:, \"MiscVal\"].fillna(0)\n",
    "# OpenPorchSF : NA most likely means no open porch\n",
    "train.loc[:, \"OpenPorchSF\"] = train.loc[:, \"OpenPorchSF\"].fillna(0)\n",
    "# PavedDrive : NA most likely means not paved\n",
    "train.loc[:, \"PavedDrive\"] = train.loc[:, \"PavedDrive\"].fillna(\"N\")\n",
    "# PoolQC : data description says NA means \"no pool\"\n",
    "train.loc[:, \"PoolArea\"] = train.loc[:, \"PoolArea\"].fillna(0)\n",
    "# SaleCondition : NA most likely means normal sale\n",
    "train.loc[:, \"SaleCondition\"] = train.loc[:, \"SaleCondition\"].fillna(\"Normal\")\n",
    "# ScreenPorch : NA most likely means no screen porch\n",
    "train.loc[:, \"ScreenPorch\"] = train.loc[:, \"ScreenPorch\"].fillna(0)\n",
    "# TotRmsAbvGrd : NA most likely means 0\n",
    "train.loc[:, \"TotRmsAbvGrd\"] = train.loc[:, \"TotRmsAbvGrd\"].fillna(0)\n",
    "# Utilities : NA most likely means all public utilities\n",
    "# WoodDeckSF : NA most likely means no wood deck\n",
    "train.loc[:, \"WoodDeckSF\"] = train.loc[:, \"WoodDeckSF\"].fillna(0)\n",
    "# TotalBsmtSF : NA most likely means no basement\n",
    "train.loc[:, \"TotalBsmtSF\"] = train.loc[:, \"TotalBsmtSF\"].fillna(0)\n",
    "train.loc[:, \"BsmtFinSF1\"] = train.loc[:, \"BsmtFinSF1\"].fillna(0)\n",
    "#Electrical : NA most likely means no electricity in the house\n",
    "train.loc[:, \"Electrical\"] = train.loc[:, \"Electrical\"].fillna(\"None\")\n",
    "\n",
    "train = train.replace({\"MSSubClass\" : {20 : \"SC20\", 30 : \"SC30\", 40 : \"SC40\", 45 : \"SC45\", \n",
    "                                       50 : \"SC50\", 60 : \"SC60\", 70 : \"SC70\", 75 : \"SC75\", \n",
    "                                       80 : \"SC80\", 85 : \"SC85\", 90 : \"SC90\", 120 : \"SC120\", \n",
    "                                       150 : \"SC150\", 160 : \"SC160\", 180 : \"SC180\", 190 : \"SC190\"},\n",
    "                       \"MoSold\" : {1 : \"Jan\", 2 : \"Feb\", 3 : \"Mar\", 4 : \"Apr\", 5 : \"May\", 6 : \"Jun\",\n",
    "                                   7 : \"Jul\", 8 : \"Aug\", 9 : \"Sep\", 10 : \"Oct\", 11 : \"Nov\", 12 : \"Dec\"}\n",
    "                      })\n",
    "\n",
    "train = train.replace({\"Alley\" : {\"Grvl\" : 1, \"Pave\" : 2},\n",
    "                       \"BsmtCond\" : {\"No\" : 0, \"Po\" : 1, \"Fa\" : 2, \"TA\" : 3, \"Gd\" : 4, \"Ex\" : 5},\n",
    "                       \"BsmtExposure\" : {\"No\" : 0, \"Mn\" : 1, \"Av\": 2, \"Gd\" : 3},\n",
    "                       \"BsmtFinType1\" : {\"No\" : 0, \"Unf\" : 1, \"LwQ\": 2, \"Rec\" : 3, \"BLQ\" : 4, \n",
    "                                         \"ALQ\" : 5, \"GLQ\" : 6},\n",
    "                       \"BsmtFinType2\" : {\"No\" : 0, \"Unf\" : 1, \"LwQ\": 2, \"Rec\" : 3, \"BLQ\" : 4, \n",
    "                                         \"ALQ\" : 5, \"GLQ\" : 6},\n",
    "                       \"BsmtQual\" : {\"No\" : 0, \"Po\" : 1, \"Fa\" : 2, \"TA\": 3, \"Gd\" : 4, \"Ex\" : 5},\n",
    "                       \"ExterCond\" : {\"Po\" : 1, \"Fa\" : 2, \"TA\": 3, \"Gd\": 4, \"Ex\" : 5},\n",
    "                       \"ExterQual\" : {\"Po\" : 1, \"Fa\" : 2, \"TA\": 3, \"Gd\": 4, \"Ex\" : 5},\n",
    "                       \"FireplaceQu\" : {\"No\" : 0, \"Po\" : 1, \"Fa\" : 2, \"TA\" : 3, \"Gd\" : 4, \"Ex\" : 5},\n",
    "                       \"Functional\" : {\"Sal\" : 1, \"Sev\" : 2, \"Maj2\" : 3, \"Maj1\" : 4, \"Mod\": 5, \n",
    "                                       \"Min2\" : 6, \"Min1\" : 7, \"Typ\" : 8},\n",
    "                       \"GarageCond\" : {\"No\" : 0, \"Po\" : 1, \"Fa\" : 2, \"TA\" : 3, \"Gd\" : 4, \"Ex\" : 5},\n",
    "                       \"GarageQual\" : {\"No\" : 0, \"Po\" : 1, \"Fa\" : 2, \"TA\" : 3, \"Gd\" : 4, \"Ex\" : 5},\n",
    "                       \"HeatingQC\" : {\"Po\" : 1, \"Fa\" : 2, \"TA\" : 3, \"Gd\" : 4, \"Ex\" : 5},\n",
    "                       \"KitchenQual\" : {\"Po\" : 1, \"Fa\" : 2, \"TA\" : 3, \"Gd\" : 4, \"Ex\" : 5},\n",
    "                       \"LandSlope\" : {\"Sev\" : 1, \"Mod\" : 2, \"Gtl\" : 3},\n",
    "                       \"LotShape\" : {\"IR3\" : 1, \"IR2\" : 2, \"IR1\" : 3, \"Reg\" : 4},\n",
    "                       \"PavedDrive\" : {\"N\" : 0, \"P\" : 1, \"Y\" : 2}}\n",
    "                     )\n",
    "#repeat with test data\n",
    "test.loc[:, \"Alley\"] = test.loc[:, \"Alley\"].fillna(\"None\")\n",
    "test.loc[:, \"BedroomAbvGr\"] = test.loc[:, \"BedroomAbvGr\"].fillna(0)\n",
    "test.loc[:, \"BsmtQual\"] = test.loc[:, \"BsmtQual\"].fillna(\"No\")\n",
    "test.loc[:, \"BsmtCond\"] = test.loc[:, \"BsmtCond\"].fillna(\"No\")\n",
    "test.loc[:, \"BsmtExposure\"] = test.loc[:, \"BsmtExposure\"].fillna(\"No\")\n",
    "test.loc[:, \"BsmtFinType1\"] = test.loc[:, \"BsmtFinType1\"].fillna(\"No\")\n",
    "test.loc[:, \"BsmtFinType2\"] = test.loc[:, \"BsmtFinType2\"].fillna(\"No\")\n",
    "test.loc[:, \"BsmtFullBath\"] = test.loc[:, \"BsmtFullBath\"].fillna(0)\n",
    "test.loc[:, \"BsmtHalfBath\"] = test.loc[:, \"BsmtHalfBath\"].fillna(0)\n",
    "test.loc[:, \"BsmtUnfSF\"] = test.loc[:, \"BsmtUnfSF\"].fillna(0)\n",
    "test.loc[:, \"CentralAir\"] = test.loc[:, \"CentralAir\"].fillna(\"N\")\n",
    "test.loc[:, \"Condition1\"] = test.loc[:, \"Condition1\"].fillna(\"Norm\")\n",
    "test.loc[:, \"Condition2\"] = test.loc[:, \"Condition2\"].fillna(\"Norm\")\n",
    "test.loc[:, \"EnclosedPorch\"] = test.loc[:, \"EnclosedPorch\"].fillna(0)\n",
    "test.loc[:, \"ExterCond\"] = test.loc[:, \"ExterCond\"].fillna(\"TA\")\n",
    "test.loc[:, \"ExterQual\"] = test.loc[:, \"ExterQual\"].fillna(\"TA\")\n",
    "test.loc[:, \"Fence\"] = test.loc[:, \"Fence\"].fillna(\"No\")\n",
    "test.loc[:, \"FireplaceQu\"] = test.loc[:, \"FireplaceQu\"].fillna(\"No\")\n",
    "test.loc[:, \"Fireplaces\"] = test.loc[:, \"Fireplaces\"].fillna(0)\n",
    "test.loc[:, \"Functional\"] = test.loc[:, \"Functional\"].fillna(\"Typ\")\n",
    "test.loc[:, \"GarageType\"] = test.loc[:, \"GarageType\"].fillna(\"No\")\n",
    "test.loc[:, \"GarageFinish\"] = test.loc[:, \"GarageFinish\"].fillna(\"No\")\n",
    "test.loc[:, \"GarageQual\"] = test.loc[:, \"GarageQual\"].fillna(\"No\")\n",
    "test.loc[:, \"GarageCond\"] = test.loc[:, \"GarageCond\"].fillna(\"No\")\n",
    "test.loc[:, \"GarageArea\"] = test.loc[:, \"GarageArea\"].fillna(0)\n",
    "test.loc[:, \"GarageCars\"] = test.loc[:, \"GarageCars\"].fillna(0)\n",
    "test.loc[:, \"HalfBath\"] = test.loc[:, \"HalfBath\"].fillna(0)\n",
    "test.loc[:, \"HeatingQC\"] = test.loc[:, \"HeatingQC\"].fillna(\"TA\")\n",
    "test.loc[:, \"KitchenAbvGr\"] = test.loc[:, \"KitchenAbvGr\"].fillna(0)\n",
    "test.loc[:, \"KitchenQual\"] = test.loc[:, \"KitchenQual\"].fillna(\"TA\")\n",
    "test.loc[:, \"LotFrontage\"] = test.loc[:, \"LotFrontage\"].fillna(0)\n",
    "test.loc[:, \"LotShape\"] = test.loc[:, \"LotShape\"].fillna(\"Reg\")\n",
    "test.loc[:, \"MasVnrType\"] = test.loc[:, \"MasVnrType\"].fillna(\"None\")\n",
    "test.loc[:, \"MasVnrArea\"] = test.loc[:, \"MasVnrArea\"].fillna(0)\n",
    "test.loc[:, \"MiscFeature\"] = test.loc[:, \"MiscFeature\"].fillna(\"No\")\n",
    "test.loc[:, \"MiscVal\"] = test.loc[:, \"MiscVal\"].fillna(0)\n",
    "test.loc[:, \"OpenPorchSF\"] = test.loc[:, \"OpenPorchSF\"].fillna(0)\n",
    "test.loc[:, \"PavedDrive\"] = test.loc[:, \"PavedDrive\"].fillna(\"N\")\n",
    "test.loc[:, \"PoolArea\"] = test.loc[:, \"PoolArea\"].fillna(0)\n",
    "test.loc[:, \"SaleCondition\"] = test.loc[:, \"SaleCondition\"].fillna(\"Normal\")\n",
    "test.loc[:, \"ScreenPorch\"] = test.loc[:, \"ScreenPorch\"].fillna(0)\n",
    "test.loc[:, \"TotRmsAbvGrd\"] = test.loc[:, \"TotRmsAbvGrd\"].fillna(0)\n",
    "test.loc[:, \"WoodDeckSF\"] = test.loc[:, \"WoodDeckSF\"].fillna(0)\n",
    "test.loc[:, \"TotalBsmtSF\"] = test.loc[:, \"TotalBsmtSF\"].fillna(0)\n",
    "test.loc[:, \"BsmtFinSF1\"] = test.loc[:, \"BsmtFinSF1\"].fillna(0)\n",
    "test.loc[:, \"Electrical\"] = test.loc[:, \"Electrical\"].fillna(\"None\")\n",
    "\n",
    "test = test.replace({\"MSSubClass\" : {20 : \"SC20\", 30 : \"SC30\", 40 : \"SC40\", 45 : \"SC45\", \n",
    "                                       50 : \"SC50\", 60 : \"SC60\", 70 : \"SC70\", 75 : \"SC75\", \n",
    "                                       80 : \"SC80\", 85 : \"SC85\", 90 : \"SC90\", 120 : \"SC120\", \n",
    "                                       150 : \"SC150\", 160 : \"SC160\", 180 : \"SC180\", 190 : \"SC190\"},\n",
    "                       \"MoSold\" : {1 : \"Jan\", 2 : \"Feb\", 3 : \"Mar\", 4 : \"Apr\", 5 : \"May\", 6 : \"Jun\",\n",
    "                                   7 : \"Jul\", 8 : \"Aug\", 9 : \"Sep\", 10 : \"Oct\", 11 : \"Nov\", 12 : \"Dec\"}\n",
    "                      })\n",
    "\n",
    "test = test.replace({\"Alley\" : {\"Grvl\" : 1, \"Pave\" : 2},\n",
    "                       \"BsmtCond\" : {\"No\" : 0, \"Po\" : 1, \"Fa\" : 2, \"TA\" : 3, \"Gd\" : 4, \"Ex\" : 5},\n",
    "                       \"BsmtExposure\" : {\"No\" : 0, \"Mn\" : 1, \"Av\": 2, \"Gd\" : 3},\n",
    "                       \"BsmtFinType1\" : {\"No\" : 0, \"Unf\" : 1, \"LwQ\": 2, \"Rec\" : 3, \"BLQ\" : 4, \n",
    "                                         \"ALQ\" : 5, \"GLQ\" : 6},\n",
    "                       \"BsmtFinType2\" : {\"No\" : 0, \"Unf\" : 1, \"LwQ\": 2, \"Rec\" : 3, \"BLQ\" : 4, \n",
    "                                         \"ALQ\" : 5, \"GLQ\" : 6},\n",
    "                       \"BsmtQual\" : {\"No\" : 0, \"Po\" : 1, \"Fa\" : 2, \"TA\": 3, \"Gd\" : 4, \"Ex\" : 5},\n",
    "                       \"ExterCond\" : {\"Po\" : 1, \"Fa\" : 2, \"TA\": 3, \"Gd\": 4, \"Ex\" : 5},\n",
    "                       \"ExterQual\" : {\"Po\" : 1, \"Fa\" : 2, \"TA\": 3, \"Gd\": 4, \"Ex\" : 5},\n",
    "                       \"FireplaceQu\" : {\"No\" : 0, \"Po\" : 1, \"Fa\" : 2, \"TA\" : 3, \"Gd\" : 4, \"Ex\" : 5},\n",
    "                       \"Functional\" : {\"Sal\" : 1, \"Sev\" : 2, \"Maj2\" : 3, \"Maj1\" : 4, \"Mod\": 5, \n",
    "                                       \"Min2\" : 6, \"Min1\" : 7, \"Typ\" : 8},\n",
    "                       \"GarageCond\" : {\"No\" : 0, \"Po\" : 1, \"Fa\" : 2, \"TA\" : 3, \"Gd\" : 4, \"Ex\" : 5},\n",
    "                       \"GarageQual\" : {\"No\" : 0, \"Po\" : 1, \"Fa\" : 2, \"TA\" : 3, \"Gd\" : 4, \"Ex\" : 5},\n",
    "                       \"HeatingQC\" : {\"Po\" : 1, \"Fa\" : 2, \"TA\" : 3, \"Gd\" : 4, \"Ex\" : 5},\n",
    "                       \"KitchenQual\" : {\"Po\" : 1, \"Fa\" : 2, \"TA\" : 3, \"Gd\" : 4, \"Ex\" : 5},\n",
    "                       \"LandSlope\" : {\"Sev\" : 1, \"Mod\" : 2, \"Gtl\" : 3},\n",
    "                       \"LotShape\" : {\"IR3\" : 1, \"IR2\" : 2, \"IR1\" : 3, \"Reg\" : 4},\n",
    "                       \"PavedDrive\" : {\"N\" : 0, \"P\" : 1, \"Y\" : 2}}\n",
    "                     )"
   ]
  },
  {
   "cell_type": "code",
   "execution_count": null,
   "metadata": {},
   "outputs": [],
   "source": []
  },
  {
   "cell_type": "code",
   "execution_count": null,
   "metadata": {},
   "outputs": [],
   "source": []
  },
  {
   "cell_type": "code",
   "execution_count": null,
   "metadata": {},
   "outputs": [],
   "source": []
  },
  {
   "cell_type": "code",
   "execution_count": null,
   "metadata": {},
   "outputs": [],
   "source": []
  },
  {
   "cell_type": "code",
   "execution_count": null,
   "metadata": {
    "scrolled": true
   },
   "outputs": [],
   "source": []
  },
  {
   "cell_type": "code",
   "execution_count": null,
   "metadata": {},
   "outputs": [],
   "source": []
  },
  {
   "cell_type": "code",
   "execution_count": null,
   "metadata": {},
   "outputs": [],
   "source": []
  },
  {
   "cell_type": "code",
   "execution_count": null,
   "metadata": {},
   "outputs": [],
   "source": []
  },
  {
   "cell_type": "code",
   "execution_count": null,
   "metadata": {},
   "outputs": [],
   "source": []
  },
  {
   "cell_type": "code",
   "execution_count": null,
   "metadata": {},
   "outputs": [],
   "source": []
  },
  {
   "cell_type": "code",
   "execution_count": null,
   "metadata": {},
   "outputs": [],
   "source": []
  },
  {
   "cell_type": "code",
   "execution_count": null,
   "metadata": {},
   "outputs": [],
   "source": []
  },
  {
   "cell_type": "code",
   "execution_count": null,
   "metadata": {},
   "outputs": [],
   "source": []
  },
  {
   "cell_type": "code",
   "execution_count": null,
   "metadata": {},
   "outputs": [],
   "source": []
  },
  {
   "cell_type": "code",
   "execution_count": 6,
   "metadata": {},
   "outputs": [
    {
     "name": "stdout",
     "output_type": "stream",
     "text": [
      "Numerical features : 55\n",
      "Categorical features : 26\n"
     ]
    }
   ],
   "source": [
    "# Differentiate numerical features (minus the target) and categorical features\n",
    "categorical_features = train.select_dtypes(include = [\"object\"]).columns\n",
    "numerical_features = train.select_dtypes(exclude = [\"object\"]).columns\n",
    "numerical_features = numerical_features.drop(\"SalePrice\")\n",
    "print(\"Numerical features : \" + str(len(numerical_features)))\n",
    "print(\"Categorical features : \" + str(len(categorical_features)))\n",
    "train_num = train[numerical_features]\n",
    "train_cat = train[categorical_features]"
   ]
  },
  {
   "cell_type": "code",
   "execution_count": 7,
   "metadata": {},
   "outputs": [
    {
     "name": "stdout",
     "output_type": "stream",
     "text": [
      "NAs for numerical features in train : 81\n",
      "Remaining NAs for numerical features in train : 0\n"
     ]
    }
   ],
   "source": [
    "# Handle remaining missing values for numerical features by using median as replacement\n",
    "print(\"NAs for numerical features in train : \" + str(train_num.isnull().values.sum()))\n",
    "train_num = train_num.fillna(train_num.median())\n",
    "print(\"Remaining NAs for numerical features in train : \" + str(train_num.isnull().values.sum()))"
   ]
  },
  {
   "cell_type": "code",
   "execution_count": 8,
   "metadata": {},
   "outputs": [
    {
     "data": {
      "image/png": "[encoded data removed]",
      "text/plain": [
       "<Figure size 432x288 with 1 Axes>"
      ]
     },
     "metadata": {},
     "output_type": "display_data"
    }
   ],
   "source": [
    "import matplotlib.pyplot as plt\n",
    "%matplotlib inline\n",
    "\n",
    "#checking for any outliers\n",
    "plt.scatter(train.GrLivArea, train.SalePrice, marker=\"s\")\n",
    "plt.title(\"Looking for outliers\")\n",
    "plt.xlabel(\"GrLivArea\")\n",
    "plt.ylabel(\"SalePrice\")\n",
    "plt.show()"
   ]
  },
  {
   "cell_type": "code",
   "execution_count": 9,
   "metadata": {},
   "outputs": [],
   "source": [
    "#There seem to be outliers where the size of the house is larger than 4000 sq. ft\n",
    "#It would be best to remove them\n",
    "train = train[train.GrLivArea < 4000]"
   ]
  },
  {
   "cell_type": "code",
   "execution_count": 10,
   "metadata": {},
   "outputs": [
    {
     "name": "stdout",
     "output_type": "stream",
     "text": [
      "SalePrice            1.000\n",
      "TotalSF              0.825\n",
      "OverallQual          0.801\n",
      "Total_sqr_footage    0.747\n",
      "GrLivArea            0.721\n",
      "ExterQual            0.695\n",
      "KitchenQual          0.666\n",
      "GarageCars           0.649\n",
      "TotalBsmtSF          0.647\n",
      "GarageArea           0.637\n",
      "Total_Bathrooms      0.636\n",
      "1stFlrSF             0.625\n",
      "BsmtQual             0.592\n",
      "YrBltAndRemod        0.591\n",
      "FullBath             0.559\n",
      "TotRmsAbvGrd         0.537\n",
      "YearBuilt            0.535\n",
      "FireplaceQu          0.529\n",
      "YearRemodAdd         0.521\n",
      "GarageYrBlt          0.499\n",
      "MasVnrArea           0.474\n",
      "Fireplaces           0.467\n",
      "HeatingQC            0.435\n",
      "Total_porch_sf       0.397\n",
      "BsmtFinSF1           0.396\n",
      "BsmtExposure         0.360\n",
      "OpenPorchSF          0.330\n",
      "WoodDeckSF           0.323\n",
      "BsmtFinType1         0.305\n",
      "2ndFlrSF             0.297\n",
      "HalfBath             0.283\n",
      "GarageQual           0.281\n",
      "GarageCond           0.270\n",
      "LotArea              0.270\n",
      "PavedDrive           0.237\n",
      "BsmtFullBath         0.236\n",
      "BsmtUnfSF            0.221\n",
      "BsmtCond             0.219\n",
      "LotFrontage          0.202\n",
      "BedroomAbvGr         0.161\n",
      "ScreenPorch          0.118\n",
      "Functional           0.109\n",
      "3SsnPorch            0.047\n",
      "PoolArea             0.033\n",
      "ExterCond            0.022\n",
      "BsmtFinType2        -0.003\n",
      "BsmtFinSF2          -0.009\n",
      "MiscVal             -0.021\n",
      "YrSold              -0.024\n",
      "LowQualFinSF        -0.025\n",
      "BsmtHalfBath        -0.037\n",
      "LandSlope           -0.055\n",
      "OverallCond         -0.080\n",
      "EnclosedPorch       -0.130\n",
      "KitchenAbvGr        -0.139\n",
      "LotShape            -0.270\n",
      "Name: SalePrice, dtype: float64\n"
     ]
    }
   ],
   "source": [
    "#Look at the correlation to sale price and select the top 10 for the model\n",
    "corr = train.corr()\n",
    "corr.sort_values([\"SalePrice\"], ascending = False, inplace = True)\n",
    "print(corr.SalePrice)"
   ]
  },
  {
   "cell_type": "code",
   "execution_count": 11,
   "metadata": {},
   "outputs": [],
   "source": [
    "from sklearn.metrics import mean_squared_error, make_scorer\n",
    "import numpy as np\n",
    "\n",
    "# Use root mean square error for checking the error\n",
    "scorer = make_scorer(mean_squared_error, greater_is_better = False)\n",
    "\n",
    "def rmse_cv_train(model):\n",
    "    rmse= np.sqrt(-cross_val_score(model, X_train, y_train, scoring = scorer, cv = 10))\n",
    "    return(rmse)\n",
    "\n",
    "def rmse_cv_test(model):\n",
    "    rmse= np.sqrt(-cross_val_score(model, X_test, y_test, scoring = scorer, cv = 10))\n",
    "    return(rmse)"
   ]
  },
  {
   "cell_type": "code",
   "execution_count": 12,
   "metadata": {},
   "outputs": [],
   "source": [
    "from sklearn.model_selection import cross_val_score, train_test_split\n",
    "\n",
    "#Select all features that positively correlate to saleprice\n",
    "features = [\"OverallQual\",\"GrLivArea\",\"ExterQual\",\"KitchenQual\",\"GarageCars\",\"TotalBsmtSF\",\"GarageArea\",\"1stFlrSF\",\"BsmtQual\",\"FullBath\",\"TotRmsAbvGrd\",\"YearBuilt\",\"FireplaceQu\",\"YearRemodAdd\",\"MasVnrArea\",\"Fireplaces\",\"HeatingQC\",\"BsmtFinSF1\",\"BsmtExposure\",\"OpenPorchSF\",\"WoodDeckSF\",\"BsmtFinType1\",\"2ndFlrSF\",\"HalfBath\",\"GarageQual\",\"GarageCond\",\"LotArea\",\"PavedDrive\",\"BsmtFullBath\",\"BsmtUnfSF\",\"BsmtCond\",\"LotFrontage\",\"BedroomAbvGr\",\"ScreenPorch\",\"Functional\",\"3SsnPorch\",\"PoolArea\",\"ExterCond\"]\n",
    "X = train[features]\n",
    "#debug: NA finding\n",
    "#print(X[X.isnull().any(axis=1)])\n",
    "#X[X.isnull().any(axis=1)].to_csv(\"NAs.csv\",index=False)"
   ]
  },
  {
   "cell_type": "code",
   "execution_count": 13,
   "metadata": {},
   "outputs": [
    {
     "name": "stdout",
     "output_type": "stream",
     "text": [
      "X_train : (1164, 38)\n",
      "X_test : (292, 38)\n",
      "y_train : (1164,)\n",
      "y_test : (292,)\n"
     ]
    }
   ],
   "source": [
    "train.SalePrice = np.log1p(train.SalePrice)\n",
    "y = train.SalePrice\n",
    "\n",
    "# Use 80% of the train data to test the model, then check using the remaining 20%\n",
    "X_train, X_test, y_train, y_test = train_test_split(X, y, test_size = 0.2, random_state = 0)\n",
    "print(\"X_train :\",X_train.shape)\n",
    "print(\"X_test :\",X_test.shape)\n",
    "print(\"y_train :\",y_train.shape)\n",
    "print(\"y_test :\",y_test.shape)"
   ]
  },
  {
   "cell_type": "code",
   "execution_count": 14,
   "metadata": {},
   "outputs": [
    {
     "name": "stdout",
     "output_type": "stream",
     "text": [
      "RMSE on Training set : 0.1353229850529117\n",
      "RMSE on Test set : 0.13578936687139156\n"
     ]
    }
   ],
   "source": [
    "from sklearn.linear_model import LinearRegression, RidgeCV, LassoCV, ElasticNetCV\n",
    "\n",
    "# create the linear regression model using the train data\n",
    "lr = LinearRegression()\n",
    "lr.fit(X_train, y_train)\n",
    "\n",
    "# calculate the root mean square error on the train and test data\n",
    "print(\"RMSE on Training set :\", rmse_cv_train(lr).mean())\n",
    "print(\"RMSE on Test set :\", rmse_cv_test(lr).mean())\n",
    "y_train_pred = lr.predict(X_train)\n",
    "y_test_pred = lr.predict(X_test)"
   ]
  },
  {
   "cell_type": "code",
   "execution_count": 15,
   "metadata": {},
   "outputs": [
    {
     "data": {
      "image/png": "[encoded data removed]",
      "text/plain": [
       "<Figure size 432x288 with 1 Axes>"
      ]
     },
     "metadata": {},
     "output_type": "display_data"
    }
   ],
   "source": [
    "# Show a plot of the training and test data and the linear model used to predict it\n",
    "plt.scatter(y_train_pred, y_train, c = \"blue\", marker = \"s\", label = \"Training data\")\n",
    "plt.scatter(y_test_pred, y_test, c = \"lightgreen\", marker = \"s\", label = \"Validation data\")\n",
    "plt.title(\"Linear regression\")\n",
    "plt.xlabel(\"Predicted values\")\n",
    "plt.ylabel(\"Real values\")\n",
    "plt.legend(loc = \"upper left\")\n",
    "plt.plot([10.5, 13.5], [10.5, 13.5], c = \"red\")\n",
    "plt.show()"
   ]
  },
  {
   "cell_type": "code",
   "execution_count": 16,
   "metadata": {},
   "outputs": [
    {
     "name": "stdout",
     "output_type": "stream",
     "text": [
      "        Id  SalePrice\n",
      "0     1461 119640.889\n",
      "1     1462 157604.797\n",
      "2     1463 175616.435\n",
      "3     1464 196167.221\n",
      "4     1465 193030.300\n",
      "5     1466 167760.299\n",
      "6     1467 172640.572\n",
      "7     1468 159673.235\n",
      "8     1469 197881.762\n",
      "9     1470 113559.140\n",
      "10    1471 207896.052\n",
      "11    1472 114119.996\n",
      "12    1473 109720.853\n",
      "13    1474 155572.922\n",
      "14    1475 122848.552\n",
      "15    1476 338269.330\n",
      "16    1477 225068.785\n",
      "17    1478 277213.373\n",
      "18    1479 267096.597\n",
      "19    1480 531491.019\n",
      "20    1481 325006.674\n",
      "21    1482 210527.845\n",
      "22    1483 174940.750\n",
      "23    1484 174156.256\n",
      "24    1485 188007.906\n",
      "25    1486 203262.541\n",
      "26    1487 324679.613\n",
      "27    1488 235717.144\n",
      "28    1489 180640.493\n",
      "29    1490 233174.902\n",
      "...    ...        ...\n",
      "1429  2890  79154.326\n",
      "1430  2891 142456.844\n",
      "1431  2892  56828.169\n",
      "1432  2893  91235.187\n",
      "1433  2894  65299.431\n",
      "1434  2895 307848.726\n",
      "1435  2896 284108.421\n",
      "1436  2897 189978.036\n",
      "1437  2898 166059.293\n",
      "1438  2899 207909.628\n",
      "1439  2900 150289.440\n",
      "1440  2901 206414.406\n",
      "1441  2902 195835.148\n",
      "1442  2903 325784.374\n",
      "1443  2904 355541.532\n",
      "1444  2905  77491.049\n",
      "1445  2906 208238.047\n",
      "1446  2907 121227.552\n",
      "1447  2908 124951.165\n",
      "1448  2909 155252.850\n",
      "1449  2910  84347.213\n",
      "1450  2911 100610.264\n",
      "1451  2912 142234.603\n",
      "1452  2913 103167.528\n",
      "1453  2914  88646.591\n",
      "1454  2915  90657.089\n",
      "1455  2916 102503.924\n",
      "1456  2917 176581.629\n",
      "1457  2918 111316.493\n",
      "1458  2919 231370.693\n",
      "\n",
      "[1459 rows x 2 columns]\n"
     ]
    },
    {
     "name": "stderr",
     "output_type": "stream",
     "text": [
      "C:\\ProgramData\\Anaconda3\\lib\\site-packages\\ipykernel_launcher.py:6: SettingWithCopyWarning: \n",
      "A value is trying to be set on a copy of a slice from a DataFrame.\n",
      "Try using .loc[row_indexer,col_indexer] = value instead\n",
      "\n",
      "See the caveats in the documentation: http://pandas.pydata.org/pandas-docs/stable/indexing.html#indexing-view-versus-copy\n",
      "  \n"
     ]
    }
   ],
   "source": [
    "# Generate test data\n",
    "X_final = test[features]\n",
    "\n",
    "output = test[[\"Id\"]]\n",
    "#output data to CSV file\n",
    "output[\"SalePrice\"] = np.expm1(lr.predict(X_final))\n",
    "print(output) #sanity check values\n",
    "output[[\"Id\",\"SalePrice\"]].to_csv(\"output.csv\",index=False)"
   ]
  },
  {
   "cell_type": "code",
   "execution_count": null,
   "metadata": {},
   "outputs": [],
   "source": []
  },
  {
   "cell_type": "code",
   "execution_count": null,
   "metadata": {},
   "outputs": [],
   "source": []
  }
 ],
 "metadata": {
  "kernelspec": {
   "display_name": "Python 3",
   "language": "python",
   "name": "python3"
  },
  "language_info": {
   "codemirror_mode": {
    "name": "ipython",
    "version": 3
   },
   "file_extension": ".py",
   "mimetype": "text/x-python",
   "name": "python",
   "nbconvert_exporter": "python",
   "pygments_lexer": "ipython3",
   "version": "3.6.5"
  }
 },
 "nbformat": 4,
 "nbformat_minor": 2
}
